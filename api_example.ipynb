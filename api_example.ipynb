{
 "cells": [
  {
   "cell_type": "markdown",
   "metadata": {},
   "source": [
    "This notebook provides an example of collecting Broadband Funding Map Data based on a specific date. This is for demostration purposes. \n",
    "\n",
    "Documentation for the API can be found here: https://us-fcc.app.box.com/v/bdc-public-data-api-spec"
   ]
  },
  {
   "cell_type": "code",
   "execution_count": 1,
   "metadata": {},
   "outputs": [],
   "source": [
    "import requests\n",
    "import json\n",
    "from datetime import date\n",
    "import zipfile\n",
    "import io\n",
    "import os\n",
    "from os.path import join, dirname\n",
    "from dotenv import load_dotenv\n"
   ]
  },
  {
   "cell_type": "markdown",
   "metadata": {},
   "source": [
    "The first section establishs today's date, then, the BDC package date is used which is relevant to downloading the correct version of the BDC which associates with the BSLF. The generated BDC date variable can also be used to add a 'fcc_rel' column to the concatenated set of BDC files which is then compared to the BSLF. "
   ]
  },
  {
   "cell_type": "code",
   "execution_count": 3,
   "metadata": {},
   "outputs": [],
   "source": [
    "dotenv_path = os.path.join(os.path.dirname('__file__'), '.env')\n",
    "load_dotenv(dotenv_path)\n",
    "FCC_USERNAME = os.environ.get('FCC_USERNAME')\n",
    "FCC_BDC_API_KEY = os.environ.get('FCC_BDC_API_KEY')"
   ]
  },
  {
   "cell_type": "markdown",
   "metadata": {},
   "source": [
    "The BSLF runs on a 6 month cycle, there is a new version every 12-31-YYYY and 6-30-YYYY. The FCC broadband Map data (BDC), is organized to match the correct BSLF. Data is accessed from an API, but can only be accessed using the correct version of the BSLF date. The API only uses a 12-31-YYYY date or 6-30-YYYY date. \n",
    "\n",
    "This logic collects BDC data which matches the BLSF. December data is released ~May 10th and June data is released ~November 10th.\n",
    "\n",
    "Note that historical BDC data can be collected. "
   ]
  },
  {
   "cell_type": "code",
   "execution_count": null,
   "metadata": {},
   "outputs": [],
   "source": [
    "today = date.today().timetuple()"
   ]
  },
  {
   "cell_type": "code",
   "execution_count": 4,
   "metadata": {},
   "outputs": [],
   "source": [
    "\n",
    "if today.tm_mon < 5:\n",
    "    year = today.tm_year - 1\n",
    "    bdc_date = str(date(year, 6, 30))\n",
    "elif today.tm_mon == 5 and today.tm_mday >= 10:\n",
    "    year = today.tm_year - 1\n",
    "    bdc_date = str(date(year, 12, 31))\n",
    "elif today.tm_mon == 5 and today.tm_mday < 10:\n",
    "    year = today.tm_year - 1\n",
    "    bdc_date = str(date(year, 6, 30))\n",
    "elif 11 > today.tm_mon > 5:\n",
    "    year = today.tm_year - 1 \n",
    "    bdc_date = str(date(year, 12, 31))\n",
    "elif today.tm_mon == 11 and today.tm_mday < 10: \n",
    "    year = today.tm_year - 1 \n",
    "    bdc_date = str(date(year, 12, 31))\n",
    "elif today.tm_mon >= 11 and today.tm_mday >= 10:\n",
    "    year = today.tm_year\n",
    "    bdc_date = str(date(year, 6, 30))"
   ]
  },
  {
   "cell_type": "markdown",
   "metadata": {},
   "source": [
    "Retrieves BDC availability data using API. Further documentation can be seen here: https://us-fcc.app.box.com/v/bdc-public-data-api-spec. Note that there is availability and challenge data available via BDC api. For BDC/BSLF processing, availability data is necessary. "
   ]
  },
  {
   "cell_type": "code",
   "execution_count": null,
   "metadata": {},
   "outputs": [],
   "source": [
    "def check_read_response(bdc_date):\n",
    "    url = (\n",
    "    \"https://broadbandmap.fcc.gov/api/public/map/downloads/listAvailabilityData/\"\n",
    "    + bdc_date\n",
    "    + \"?category=State&subcategory=Fixed Broadband\"\n",
    "    )\n",
    "    headers = {\n",
    "        \"username\": FCC_USERNAME,\n",
    "        \"hash_value\": FCC_BDC_API_KEY,\n",
    "    }\n",
    "## hash value refers to your generated API token\n",
    "## a standardized api and username will need to be used\n",
    "\n",
    "    response = requests.get(url, headers=headers)\n",
    "    read_response = json.loads(response.content)\n",
    "    return read_response"
   ]
  },
  {
   "cell_type": "markdown",
   "metadata": {},
   "source": [
    "Defines tech codes of data\n",
    "\n",
    "10 = Copper Wire\n",
    "\n",
    "40 = Coaxial Cable\n",
    "\n",
    "50 = Optical Carrier/Fiber to the Premises\n",
    "\n",
    "71 = Licensed Terrestrial Fixed Wireless\n",
    "\n",
    "72 = Licensed by Rule Terrestrial Fixed Wireless \n",
    "\n",
    "Gets data specific for the state of Maine with these tech codes. \n"
   ]
  },
  {
   "cell_type": "code",
   "execution_count": null,
   "metadata": {},
   "outputs": [],
   "source": [
    "def test_read_response(read_response, bdc_date):\n",
    "    month = bdc_date[5] + bdc_date[6]\n",
    "\n",
    "    if bool(read_response.get('data')) is False: \n",
    "        if month == '12': \n",
    "            bdc_date = bdc_date[0:4] + '-06-30'\n",
    "            \n",
    "        elif month == '06': \n",
    "            year = int(bdc_date[0:4]) - 1\n",
    "            bdc_date = str(year) + '-12-31'\n",
    "            \n",
    "    else: \n",
    "        bdc_date = bdc_date\n",
    "\n",
    "    return bdc_date"
   ]
  },
  {
   "cell_type": "code",
   "execution_count": 6,
   "metadata": {},
   "outputs": [],
   "source": [
    "tech_codes = ['10', '40', '50', '71', '72']\n",
    "file_ids = []\n",
    "for entry in read_response['data']:\n",
    "    if entry['state_name'] == 'Maine' and entry['technology_code'] in tech_codes: \n",
    "        file_ids.append(entry['file_id']) "
   ]
  },
  {
   "cell_type": "markdown",
   "metadata": {},
   "source": [
    "Data is retrived in zip format, all BDC files are extracted. "
   ]
  },
  {
   "cell_type": "code",
   "execution_count": 10,
   "metadata": {},
   "outputs": [],
   "source": [
    "for index in range(len(file_ids)): \n",
    "    download_url = 'https://broadbandmap.fcc.gov/api/public/map/downloads/downloadFile/availability/' + str(file_ids[index])\n",
    "    download_response = requests.get(download_url, headers=headers)\n",
    "    bdc_zip = zipfile.ZipFile(io.BytesIO(download_response.content))\n",
    "    bdc_zip.extractall()\n",
    "    bdc_zip.close()"
   ]
  }
 ],
 "metadata": {
  "kernelspec": {
   "display_name": "Python 3",
   "language": "python",
   "name": "python3"
  },
  "language_info": {
   "codemirror_mode": {
    "name": "ipython",
    "version": 3
   },
   "file_extension": ".py",
   "mimetype": "text/x-python",
   "name": "python",
   "nbconvert_exporter": "python",
   "pygments_lexer": "ipython3",
   "version": "3.11.0"
  }
 },
 "nbformat": 4,
 "nbformat_minor": 2
}
